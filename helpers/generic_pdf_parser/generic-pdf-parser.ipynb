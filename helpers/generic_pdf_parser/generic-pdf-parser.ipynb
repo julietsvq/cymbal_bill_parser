{
 "cells": [
  {
   "cell_type": "code",
   "execution_count": 6,
   "id": "f0ecb4f9-178c-4cca-98e4-32e7d2c49b28",
   "metadata": {
    "tags": []
   },
   "outputs": [],
   "source": [
    "import sys\n",
    "import os\n",
    "import yaml\n",
    "\n",
    "path = os.getcwd()\n",
    "sys.path.append(os.path.abspath(os.path.join(path, os.pardir)))"
   ]
  },
  {
   "cell_type": "code",
   "execution_count": 7,
   "id": "4f3a6b2f-fa77-4e23-8d38-03a03e25c5ec",
   "metadata": {
    "tags": []
   },
   "outputs": [],
   "source": [
    "from helpers.utils import show_images_in_grid\n",
    "import helpers.generic_pdf_parser.generic_pdf_parser as gpp"
   ]
  },
  {
   "cell_type": "code",
   "execution_count": null,
   "id": "deea16b6-1e6a-48f1-84d9-3da05158b8dd",
   "metadata": {
    "tags": []
   },
   "outputs": [],
   "source": [
    "config = yaml.safe_load(open(os.path.abspath(os.path.join(path, os.pardir)) + \"/cymbal_demo/resources/config.yaml\"))\n",
    "pdf = os.path.abspath(os.path.join(path, os.pardir)) + \"/cymbal_demo/resources/sample_invoices/sample_phone_invoice2.pdf\"\n",
    "section_infos = config[\"ocr\"][\"cropping\"][\"section_infos\"]\n",
    "\n",
    "output = gpp.create_images_from_pdf(pdf, section_infos, local_temp_dir=\"invoice_images_output\")\n",
    "show_images_in_grid([section['path'] for section in output if section[\"image_extracted\"]], 1)"
   ]
  },
  {
   "cell_type": "code",
   "execution_count": null,
   "id": "8cfe48fa-1739-4b07-90f0-9abb5dc6519d",
   "metadata": {},
   "outputs": [],
   "source": []
  }
 ],
 "metadata": {
  "environment": {
   "kernel": "conda-base-py",
   "name": "workbench-notebooks.m128",
   "type": "gcloud",
   "uri": "us-docker.pkg.dev/deeplearning-platform-release/gcr.io/workbench-notebooks:m128"
  },
  "kernelspec": {
   "display_name": "Python 3 (ipykernel)",
   "language": "python",
   "name": "conda-base-py"
  },
  "language_info": {
   "codemirror_mode": {
    "name": "ipython",
    "version": 3
   },
   "file_extension": ".py",
   "mimetype": "text/x-python",
   "name": "python",
   "nbconvert_exporter": "python",
   "pygments_lexer": "ipython3",
   "version": "3.10.16"
  }
 },
 "nbformat": 4,
 "nbformat_minor": 5
}
