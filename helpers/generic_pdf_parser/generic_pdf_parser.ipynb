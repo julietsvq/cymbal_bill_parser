{
 "cells": [
  {
   "cell_type": "code",
   "execution_count": 1,
   "metadata": {},
   "outputs": [],
   "source": [
    "%load_ext autoreload\n",
    "%autoreload 2"
   ]
  },
  {
   "cell_type": "code",
   "execution_count": 10,
   "metadata": {},
   "outputs": [],
   "source": [
    "import os\n",
    "import sys\n",
    "sys.path.append(os.getcwd().split(\"company/\")[0] + \"company\")"
   ]
  },
  {
   "cell_type": "code",
   "execution_count": 2,
   "metadata": {},
   "outputs": [],
   "source": [
    "import generic_pdf_parser as gpp\n",
    "from IPython.display import clear_output\n",
    "import os\n",
    "from functools import partial\n",
    "#from parsing.utils import show_images_in_grid"
   ]
  },
  {
   "cell_type": "code",
   "execution_count": 12,
   "metadata": {},
   "outputs": [],
   "source": [
    "def find_pdf_files(base_path):\n",
    "    pdf_files = []\n",
    "\n",
    "    for root, dirs, files in os.walk(base_path):\n",
    "        for file in files:\n",
    "            if file.endswith(\".pdf\"):  # Check if the filename ends with \".pdf\"\n",
    "                pdf_files.append(os.path.join(root, file))\n",
    "\n",
    "    return pdf_files"
   ]
  },
  {
   "cell_type": "code",
   "execution_count": 13,
   "metadata": {},
   "outputs": [],
   "source": [
    "def find_files_by_extension(base_path, extension):\n",
    "    output = []\n",
    "    for root, _, files in os.walk(base_path):\n",
    "        for file in files:\n",
    "            if file.endswith(f\".{extension}\"):\n",
    "                output.append(os.path.join(root, file))\n",
    "    return output\n",
    "\n",
    "find_pdf_files = partial(find_files_by_extension, extension=\"pdf\")\n",
    "find_png_files = partial(find_files_by_extension, extension=\"png\")"
   ]
  },
  {
   "cell_type": "code",
   "execution_count": 14,
   "metadata": {},
   "outputs": [],
   "source": [
    "base_path = \"/Users/alias/projects/experimental/company/bills_organised/\"\n",
    "pdf_files = find_pdf_files(base_path)"
   ]
  },
  {
   "cell_type": "code",
   "execution_count": 32,
   "metadata": {},
   "outputs": [],
   "source": [
    "import yaml\n",
    "config = yaml.safe_load(open(\"cymbal_invoice_parser/config.yaml\"))\n",
    "section_infos = config[\"ocr\"][\"cropping\"][\"section_infos\"]\n",
    "\n",
    "pdf_path = \"/Users/alias/projects/experimental/company/bills_organised/030_648/2024_04/016/016.pdf\"\n",
    "pdf_path = \"/Users/alias/projects/experimental/company/bills_organised/706_765/2024_05/372/372.pdf\"\n",
    "output = gpp.create_images_from_pdf(pdf_path, section_infos)"
   ]
  },
  {
   "cell_type": "code",
   "execution_count": 9,
   "metadata": {},
   "outputs": [],
   "source": [
    "import yaml\n",
    "\n",
    "config = yaml.safe_load(open(\"cymbal_invoice_parser/config.yaml\"))\n",
    "section_infos = config[\"ocr\"][\"cropping\"][\"section_infos\"]\n",
    "\n",
    "uri = \"cymbal_invoice_parser/sample invoices/sample_phone_invoice1.pdf\"\n",
    "output = gpp.create_images_from_pdf(uri, section_infos)"
   ]
  },
  {
   "cell_type": "code",
   "execution_count": null,
   "metadata": {
    "tags": []
   },
   "outputs": [],
   "source": [
    "import yaml\n",
    "\n",
    "config = yaml.safe_load(open(\"config.yaml\"))\n",
    "section_infos = config[\"ocr\"][\"cropping\"][\"section_infos\"]"
   ]
  },
  {
   "cell_type": "code",
   "execution_count": null,
   "metadata": {},
   "outputs": [],
   "source": []
  },
  {
   "cell_type": "code",
   "execution_count": 18,
   "metadata": {},
   "outputs": [],
   "source": []
  },
  {
   "cell_type": "code",
   "execution_count": null,
   "metadata": {},
   "outputs": [],
   "source": [
    "import yaml\n",
    "config = yaml.safe_load(open(os.getcwd().split(\"company/\")[0] + \"company/config.yaml\"))\n",
    "section_infos = config[\"ocr\"][\"cropping\"][\"section_infos\"]\n",
    "\n",
    "for index, pdf_path in enumerate(pdf_files):\n",
    "    \n",
    "    clear_output(wait=True) \n",
    "    print(f\"PDF {index}: {pdf_path}\")\n",
    "    #get all the sections\n",
    "    output = gpp.create_images_from_pdf(pdf_path, section_infos, local_temp_dir=\"\")\n",
    "    \n",
    "\n",
    "    #show all images in grid\n",
    "    show_images_in_grid([section['path'] for section in output if section[\"image_extracted\"]], 1)\n",
    "    # input(\"should I continue?\")"
   ]
  },
  {
   "cell_type": "code",
   "execution_count": 22,
   "metadata": {},
   "outputs": [],
   "source": [
    "png_files = find_png_files(base_path)\n",
    "for f in png_files:\n",
    "    os.remove(f)"
   ]
  },
  {
   "cell_type": "code",
   "execution_count": 52,
   "metadata": {},
   "outputs": [],
   "source": [
    "useless_files = find_files_by_extension(base_path, \"DS_Store\")\n",
    "for f in useless_files:\n",
    "    os.remove(f)"
   ]
  },
  {
   "cell_type": "code",
   "execution_count": 53,
   "metadata": {},
   "outputs": [],
   "source": [
    "useless_files = find_files_by_extension(base_path, \"png\")\n",
    "for f in useless_files:\n",
    "    os.remove(f)"
   ]
  },
  {
   "cell_type": "code",
   "execution_count": 54,
   "metadata": {},
   "outputs": [],
   "source": [
    "useless_files = find_files_by_extension(base_path, \"json\")\n",
    "for f in useless_files:\n",
    "    os.remove(f)"
   ]
  },
  {
   "cell_type": "code",
   "execution_count": 43,
   "metadata": {},
   "outputs": [],
   "source": [
    "# import shutil\n",
    "# output = []\n",
    "# for root, _, files in os.walk(base_path):\n",
    "#     if \".tmp\" in root:\n",
    "#         shutil.rmtree(root)\n",
    "#         # os.remove(root)\n",
    "#     # for file in files:\n",
    "#     #     if \"plan_page\" in file:\n",
    "#     #         output.append(os.path.join(root, file))\n"
   ]
  },
  {
   "cell_type": "code",
   "execution_count": null,
   "metadata": {},
   "outputs": [],
   "source": [
    "output"
   ]
  },
  {
   "cell_type": "code",
   "execution_count": null,
   "metadata": {},
   "outputs": [],
   "source": [
    "! pwd "
   ]
  },
  {
   "cell_type": "code",
   "execution_count": null,
   "metadata": {},
   "outputs": [],
   "source": [
    "!gsutil -m cp -r /Users/alias/projects/experimental/company/bills_organised gs://poc-genai/"
   ]
  },
  {
   "cell_type": "code",
   "execution_count": null,
   "metadata": {},
   "outputs": [],
   "source": []
  }
 ],
 "metadata": {
  "environment": {
   "kernel": "conda-base-py",
   "name": "workbench-notebooks.m128",
   "type": "gcloud",
   "uri": "us-docker.pkg.dev/deeplearning-platform-release/gcr.io/workbench-notebooks:m128"
  },
  "kernelspec": {
   "display_name": "Python 3 (ipykernel)",
   "language": "python",
   "name": "conda-base-py"
  },
  "language_info": {
   "codemirror_mode": {
    "name": "ipython",
    "version": 3
   },
   "file_extension": ".py",
   "mimetype": "text/x-python",
   "name": "python",
   "nbconvert_exporter": "python",
   "pygments_lexer": "ipython3",
   "version": "3.10.16"
  }
 },
 "nbformat": 4,
 "nbformat_minor": 4
}
